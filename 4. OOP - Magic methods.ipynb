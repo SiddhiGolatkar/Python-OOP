{
 "cells": [
  {
   "cell_type": "markdown",
   "metadata": {},
   "source": [
    "# Python - Object Oriented Programming"
   ]
  },
  {
   "cell_type": "markdown",
   "metadata": {},
   "source": [
    "## Magic Methods"
   ]
  },
  {
   "cell_type": "code",
   "execution_count": 1,
   "metadata": {},
   "outputs": [
    {
     "name": "stdout",
     "output_type": "stream",
     "text": [
      "<__main__.book object at 0x0000017D1367F4C8>\n",
      "<__main__.book object at 0x0000017D1367F508>\n"
     ]
    }
   ],
   "source": [
    "class book:\n",
    "    def __init__(self, title, author, price):\n",
    "        super().__init__()\n",
    "        self.title = title\n",
    "        self.author = author\n",
    "        self.price = price\n",
    "        \n",
    "b1 = book('war & peace', 'leo tolstoy', 39.40)\n",
    "b2 = book('the alchemist', 'paulo coelho', 30.25)\n",
    "\n",
    "print(b1)\n",
    "print(b2)"
   ]
  },
  {
   "cell_type": "code",
   "execution_count": 5,
   "metadata": {},
   "outputs": [
    {
     "data": {
      "text/plain": [
       "'war & peace'"
      ]
     },
     "execution_count": 5,
     "metadata": {},
     "output_type": "execute_result"
    }
   ],
   "source": [
    "b1.title"
   ]
  },
  {
   "cell_type": "code",
   "execution_count": 6,
   "metadata": {},
   "outputs": [
    {
     "data": {
      "text/plain": [
       "'leo tolstoy'"
      ]
     },
     "execution_count": 6,
     "metadata": {},
     "output_type": "execute_result"
    }
   ],
   "source": [
    "b1.author"
   ]
  },
  {
   "cell_type": "code",
   "execution_count": 7,
   "metadata": {},
   "outputs": [
    {
     "data": {
      "text/plain": [
       "39.4"
      ]
     },
     "execution_count": 7,
     "metadata": {},
     "output_type": "execute_result"
    }
   ],
   "source": [
    "b1.price"
   ]
  },
  {
   "cell_type": "code",
   "execution_count": 11,
   "metadata": {},
   "outputs": [
    {
     "name": "stdout",
     "output_type": "stream",
     "text": [
      "war & peace by leo tolstoy, costs 39.4 dollars\n",
      "the alchemist by paulo coelho, costs 30.25 dollars\n"
     ]
    }
   ],
   "source": [
    "class book:\n",
    "    def __init__(self, title, author, price):\n",
    "        super().__init__()\n",
    "        self.title = title\n",
    "        self.author = author\n",
    "        self.price = price\n",
    "        \n",
    "    # use the __str__ method to return a string\n",
    "    \n",
    "    def __str__(self):\n",
    "        return f'{self.title} by {self.author}, costs {self.price} dollars'\n",
    "        \n",
    "b1 = book('war & peace', 'leo tolstoy', 39.40)\n",
    "b2 = book('the alchemist', 'paulo coelho', 30.25)\n",
    "\n",
    "print(b1)\n",
    "print(b2)"
   ]
  },
  {
   "cell_type": "code",
   "execution_count": 14,
   "metadata": {},
   "outputs": [
    {
     "name": "stdout",
     "output_type": "stream",
     "text": [
      "war & peace by leo tolstoy, costs 39.4 dollars\n",
      "the alchemist by paulo coelho, costs 30.25 dollars \n",
      "\n",
      "war & peace by leo tolstoy, costs 39.4 dollars\n",
      "title = the alchemist, author = paulo coelho, price = 30.25 dollars\n"
     ]
    }
   ],
   "source": [
    "class book:\n",
    "    def __init__(self, title, author, price):\n",
    "        super().__init__()\n",
    "        self.title = title\n",
    "        self.author = author\n",
    "        self.price = price\n",
    "        \n",
    "    # use the __str__ method to return a string\n",
    "    \n",
    "    def __str__(self):\n",
    "        return f'{self.title} by {self.author}, costs {self.price} dollars'\n",
    "    \n",
    "    # use the __repr__ method to return an object representation\n",
    "    \n",
    "    def __repr__(self):\n",
    "        return f'title = {self.title}, author = {self.author}, price = {self.price} dollars'\n",
    "        \n",
    "b1 = book('war & peace', 'leo tolstoy', 39.40)\n",
    "b2 = book('the alchemist', 'paulo coelho', 30.25)\n",
    "\n",
    "print(b1)\n",
    "print(b2, '\\n')\n",
    "\n",
    "print(str(b1))\n",
    "print(repr(b2)) "
   ]
  },
  {
   "cell_type": "markdown",
   "metadata": {},
   "source": [
    "## Equality and comparison"
   ]
  },
  {
   "cell_type": "code",
   "execution_count": 1,
   "metadata": {},
   "outputs": [],
   "source": [
    "class book:\n",
    "    def __init__(self, title, author, price):\n",
    "        super().__init__()\n",
    "        self.title = title\n",
    "        self.author = author\n",
    "        self.price = price\n",
    "        "
   ]
  },
  {
   "cell_type": "code",
   "execution_count": 3,
   "metadata": {},
   "outputs": [],
   "source": [
    "b1 = book('war & peace', 'leo tolstoy', 39.40)\n",
    "b2 = book('the alchemist', 'paulo coelho', 30.25)\n",
    "b3 = book('the notebook', 'Nicholas Sparks', 25.50) \n",
    "b4 = book('the secret', 'Rhonda byrne', 40.70)\n",
    "b5 = book('the alchemist', 'paulo coelho', 30.25)"
   ]
  },
  {
   "cell_type": "code",
   "execution_count": 5,
   "metadata": {},
   "outputs": [
    {
     "name": "stdout",
     "output_type": "stream",
     "text": [
      "False\n"
     ]
    }
   ],
   "source": [
    "# check for equality\n",
    "\n",
    "print(b2 == b5)"
   ]
  },
  {
   "cell_type": "code",
   "execution_count": 6,
   "metadata": {},
   "outputs": [],
   "source": [
    "class book:\n",
    "    def __init__(self, title, author, price):\n",
    "        super().__init__()\n",
    "        self.title = title\n",
    "        self.author = author\n",
    "        self.price = price\n",
    "        \n",
    "# the __eq__ method checks for equality between two objects\n",
    "\n",
    "    def __eq__(self, other):\n",
    "        return (self.title == other.title and \n",
    "                self.author == other.author and\n",
    "                self.price == other.price)"
   ]
  },
  {
   "cell_type": "code",
   "execution_count": 7,
   "metadata": {},
   "outputs": [],
   "source": [
    "b1 = book('war & peace', 'leo tolstoy', 39.40)\n",
    "b2 = book('the alchemist', 'paulo coelho', 30.25)\n",
    "b3 = book('the notebook', 'Nicholas Sparks', 25.50) \n",
    "b4 = book('the secret', 'Rhonda byrne', 40.70)\n",
    "b5 = book('the alchemist', 'paulo coelho', 30.25)"
   ]
  },
  {
   "cell_type": "code",
   "execution_count": 8,
   "metadata": {},
   "outputs": [
    {
     "name": "stdout",
     "output_type": "stream",
     "text": [
      "True\n"
     ]
    }
   ],
   "source": [
    "# Again check for equality after using magic method __eq__\n",
    "\n",
    "print(b2 == b5)"
   ]
  },
  {
   "cell_type": "code",
   "execution_count": 14,
   "metadata": {},
   "outputs": [],
   "source": [
    "class book:\n",
    "    def __init__(self, title, author, price):\n",
    "        super().__init__()\n",
    "        self.title = title\n",
    "        self.author = author\n",
    "        self.price = price\n",
    "        \n",
    "# the __eq__ method checks for equality between two objects\n",
    "\n",
    "    def __eq__(self, other):\n",
    "        if not isinstance(other, book):\n",
    "            raise ValueError(\"can't compare book to a non-book\")\n",
    "                             \n",
    "        return (self.title == other.title and \n",
    "                self.author == other.author and\n",
    "                self.price == other.price)"
   ]
  },
  {
   "cell_type": "code",
   "execution_count": 15,
   "metadata": {},
   "outputs": [],
   "source": [
    "b1 = book('war & peace', 'leo tolstoy', 39.40)\n",
    "b2 = book('the alchemist', 'paulo coelho', 30.25)\n",
    "b3 = book('the notebook', 'Nicholas Sparks', 25.50) \n",
    "b4 = book('the secret', 'Rhonda byrne', 40.70)\n",
    "b5 = book('the alchemist', 'paulo coelho', 30.25)"
   ]
  },
  {
   "cell_type": "code",
   "execution_count": 16,
   "metadata": {},
   "outputs": [
    {
     "name": "stdout",
     "output_type": "stream",
     "text": [
      "False\n"
     ]
    }
   ],
   "source": [
    "# Again check for equality after using magic method __eq__\n",
    "\n",
    "print(b2 == b3)"
   ]
  },
  {
   "cell_type": "code",
   "execution_count": 17,
   "metadata": {},
   "outputs": [
    {
     "ename": "ValueError",
     "evalue": "can't compare book to a non-book",
     "output_type": "error",
     "traceback": [
      "\u001b[1;31m---------------------------------------------------------------------------\u001b[0m",
      "\u001b[1;31mValueError\u001b[0m                                Traceback (most recent call last)",
      "\u001b[1;32m<ipython-input-17-abf7498f8669>\u001b[0m in \u001b[0;36m<module>\u001b[1;34m\u001b[0m\n\u001b[1;32m----> 1\u001b[1;33m \u001b[0mprint\u001b[0m\u001b[1;33m(\u001b[0m\u001b[0mb1\u001b[0m \u001b[1;33m==\u001b[0m \u001b[1;36m100\u001b[0m\u001b[1;33m)\u001b[0m\u001b[1;33m\u001b[0m\u001b[1;33m\u001b[0m\u001b[0m\n\u001b[0m",
      "\u001b[1;32m<ipython-input-14-d7a8f65f408a>\u001b[0m in \u001b[0;36m__eq__\u001b[1;34m(self, other)\u001b[0m\n\u001b[0;32m     10\u001b[0m     \u001b[1;32mdef\u001b[0m \u001b[0m__eq__\u001b[0m\u001b[1;33m(\u001b[0m\u001b[0mself\u001b[0m\u001b[1;33m,\u001b[0m \u001b[0mother\u001b[0m\u001b[1;33m)\u001b[0m\u001b[1;33m:\u001b[0m\u001b[1;33m\u001b[0m\u001b[1;33m\u001b[0m\u001b[0m\n\u001b[0;32m     11\u001b[0m         \u001b[1;32mif\u001b[0m \u001b[1;32mnot\u001b[0m \u001b[0misinstance\u001b[0m\u001b[1;33m(\u001b[0m\u001b[0mother\u001b[0m\u001b[1;33m,\u001b[0m \u001b[0mbook\u001b[0m\u001b[1;33m)\u001b[0m\u001b[1;33m:\u001b[0m\u001b[1;33m\u001b[0m\u001b[1;33m\u001b[0m\u001b[0m\n\u001b[1;32m---> 12\u001b[1;33m             \u001b[1;32mraise\u001b[0m \u001b[0mValueError\u001b[0m\u001b[1;33m(\u001b[0m\u001b[1;34m\"can't compare book to a non-book\"\u001b[0m\u001b[1;33m)\u001b[0m\u001b[1;33m\u001b[0m\u001b[1;33m\u001b[0m\u001b[0m\n\u001b[0m\u001b[0;32m     13\u001b[0m \u001b[1;33m\u001b[0m\u001b[0m\n\u001b[0;32m     14\u001b[0m         return (self.title == other.title and \n",
      "\u001b[1;31mValueError\u001b[0m: can't compare book to a non-book"
     ]
    }
   ],
   "source": [
    "print(b1 == 100)"
   ]
  },
  {
   "cell_type": "code",
   "execution_count": 18,
   "metadata": {},
   "outputs": [
    {
     "ename": "TypeError",
     "evalue": "'>=' not supported between instances of 'book' and 'book'",
     "output_type": "error",
     "traceback": [
      "\u001b[1;31m---------------------------------------------------------------------------\u001b[0m",
      "\u001b[1;31mTypeError\u001b[0m                                 Traceback (most recent call last)",
      "\u001b[1;32m<ipython-input-18-b1ac1b4e59b7>\u001b[0m in \u001b[0;36m<module>\u001b[1;34m\u001b[0m\n\u001b[1;32m----> 1\u001b[1;33m \u001b[0mprint\u001b[0m\u001b[1;33m(\u001b[0m\u001b[0mb2\u001b[0m \u001b[1;33m>=\u001b[0m \u001b[0mb3\u001b[0m\u001b[1;33m)\u001b[0m\u001b[1;33m\u001b[0m\u001b[1;33m\u001b[0m\u001b[0m\n\u001b[0m\u001b[0;32m      2\u001b[0m \u001b[1;33m\u001b[0m\u001b[0m\n\u001b[0;32m      3\u001b[0m \u001b[0mprint\u001b[0m\u001b[1;33m(\u001b[0m\u001b[0mb2\u001b[0m \u001b[1;33m<\u001b[0m \u001b[0mb3\u001b[0m\u001b[1;33m)\u001b[0m\u001b[1;33m\u001b[0m\u001b[1;33m\u001b[0m\u001b[0m\n",
      "\u001b[1;31mTypeError\u001b[0m: '>=' not supported between instances of 'book' and 'book'"
     ]
    }
   ],
   "source": [
    "print(b2 >= b3)\n",
    "\n",
    "print(b2 < b3)"
   ]
  },
  {
   "cell_type": "code",
   "execution_count": 26,
   "metadata": {},
   "outputs": [],
   "source": [
    "class book:\n",
    "    def __init__(self, title, author, price):\n",
    "        super().__init__()\n",
    "        self.title = title\n",
    "        self.author = author\n",
    "        self.price = price\n",
    "        \n",
    "# the __eq__ method checks for equality between two objects\n",
    "\n",
    "    def __eq__(self, other):\n",
    "        if not isinstance(other, book):\n",
    "            raise ValueError(\"can't compare book to a non-book\")\n",
    "                             \n",
    "        return (self.title == other.title and \n",
    "                self.author == other.author and\n",
    "                self.price == other.price)\n",
    "    \n",
    "# the __ge__ method establishes >= relationship with another obj\n",
    "\n",
    "    def __ge__(self, other):\n",
    "        if not isinstance(other, book):\n",
    "            raise ValueError(\"can't compare book to a non-book\")\n",
    "            \n",
    "        return (self.price >= other.price)\n",
    "    \n",
    "# the __lt__ method establishes >= relationship with another obj\n",
    "\n",
    "    def __lt__(self, other):\n",
    "        if not isinstance(other, book):\n",
    "            raise ValueError(\"can't compare book to a non-book\")\n",
    "            \n",
    "        return (self.price < other.price) \n",
    "        "
   ]
  },
  {
   "cell_type": "code",
   "execution_count": 27,
   "metadata": {},
   "outputs": [],
   "source": [
    "b1 = book('war & peace', 'leo tolstoy', 39.40)\n",
    "b2 = book('the alchemist', 'paulo coelho', 30.25)\n",
    "b3 = book('the notebook', 'Nicholas Sparks', 25.50) \n",
    "b4 = book('the secret', 'Rhonda byrne', 40.70)\n",
    "b5 = book('the alchemist', 'paulo coelho', 30.25)"
   ]
  },
  {
   "cell_type": "code",
   "execution_count": 30,
   "metadata": {},
   "outputs": [
    {
     "name": "stdout",
     "output_type": "stream",
     "text": [
      "True\n",
      "False\n"
     ]
    }
   ],
   "source": [
    "# check for greater than and lesser value\n",
    "\n",
    "print(b2 >= b3)\n",
    "\n",
    "print(b2 < b3)\n"
   ]
  },
  {
   "cell_type": "code",
   "execution_count": 32,
   "metadata": {},
   "outputs": [
    {
     "name": "stdout",
     "output_type": "stream",
     "text": [
      "['the notebook', 'the alchemist', 'the alchemist', 'war & peace', 'the secret']\n"
     ]
    }
   ],
   "source": [
    "# now we can sort them too\n",
    "\n",
    "books = [b1,b2 ,b3,b4,b5]\n",
    "\n",
    "books.sort()\n",
    "\n",
    "print([book.title for book in books])"
   ]
  },
  {
   "cell_type": "markdown",
   "metadata": {},
   "source": [
    "## Attribute access"
   ]
  },
  {
   "cell_type": "code",
   "execution_count": 39,
   "metadata": {},
   "outputs": [],
   "source": [
    "class book:\n",
    "    def __init__(self, title, author, price):\n",
    "        super().__init__()\n",
    "        self.title = title\n",
    "        self.author = author\n",
    "        self.price = price\n",
    "        self._discount = 0.1\n",
    "        \n",
    "    # the __str__ function is used to return a user-friendly string \n",
    "    # representation of the object\n",
    "    \n",
    "    def __str__(self):\n",
    "        return f'{self.title} by {self.author}, costs {self.price}'\n",
    "    \n",
    "    # __getattribute__ called when an attr is retrieved.\n",
    "    # don't directly access the attr name otherwise a recursive loop is created.\n",
    "    \n",
    "    def __getattribute__(self, name):\n",
    "        if name == 'price':\n",
    "            p = super().__getattribute__('price')\n",
    "            d = super().__getattribute__('_discount')\n",
    "            return p - (p*d)\n",
    "        return super().__getattribute__(name)\n",
    "        "
   ]
  },
  {
   "cell_type": "code",
   "execution_count": 40,
   "metadata": {},
   "outputs": [],
   "source": [
    "b1 = book('war & peace', 'leo tolstoy', 39.40)\n",
    "b2 = book('the alchemist', 'paulo coelho', 30.25)"
   ]
  },
  {
   "cell_type": "code",
   "execution_count": 41,
   "metadata": {},
   "outputs": [
    {
     "name": "stdout",
     "output_type": "stream",
     "text": [
      "war & peace by leo tolstoy, costs 35.055\n"
     ]
    }
   ],
   "source": [
    "b1.price = 38.95\n",
    "print(b1)"
   ]
  },
  {
   "cell_type": "code",
   "execution_count": 44,
   "metadata": {},
   "outputs": [],
   "source": [
    "class book:\n",
    "    def __init__(self, title, author, price):\n",
    "        super().__init__()\n",
    "        self.title = title\n",
    "        self.author = author\n",
    "        self.price = price\n",
    "        self._discount = 0.1\n",
    "        \n",
    "    # the __str__ function is used to return a user-friendly string \n",
    "    # representation of the object\n",
    "    \n",
    "    def __str__(self):\n",
    "        return f'{self.title} by {self.author}, costs {self.price}'\n",
    "    \n",
    "    # __getattribute__ called when an attr is retrieved.\n",
    "    # don't directly access the attr name otherwise a recursive loop is created.\n",
    "    \n",
    "    def __getattribute__(self, name):\n",
    "        if name == 'price':\n",
    "            p = super().__getattribute__('price')\n",
    "            d = super().__getattribute__('_discount')\n",
    "            return p - (p*d)\n",
    "        return super().__getattribute__(name)\n",
    "        \n",
    "# __setattr__ called when an attribute value is set. \n",
    "# dont set the attr directly otherwise a recursive loop causes a crash.\n",
    "\n",
    "    def __setattr__(self, name, value):\n",
    "        if name == 'price':\n",
    "            if type(value) is not float:\n",
    "                raise ValueError('The price attr must be a float')\n",
    "        return super().__setattr__(name, value)"
   ]
  },
  {
   "cell_type": "code",
   "execution_count": 45,
   "metadata": {},
   "outputs": [],
   "source": [
    "b1 = book('war & peace', 'leo tolstoy', 39.40)\n",
    "b2 = book('the alchemist', 'paulo coelho', 30.25)"
   ]
  },
  {
   "cell_type": "code",
   "execution_count": 46,
   "metadata": {},
   "outputs": [
    {
     "ename": "ValueError",
     "evalue": "The price attr must be a float",
     "output_type": "error",
     "traceback": [
      "\u001b[1;31m---------------------------------------------------------------------------\u001b[0m",
      "\u001b[1;31mValueError\u001b[0m                                Traceback (most recent call last)",
      "\u001b[1;32m<ipython-input-46-42c1ad7c2f30>\u001b[0m in \u001b[0;36m<module>\u001b[1;34m\u001b[0m\n\u001b[1;32m----> 1\u001b[1;33m \u001b[0mb1\u001b[0m\u001b[1;33m.\u001b[0m\u001b[0mprice\u001b[0m \u001b[1;33m=\u001b[0m \u001b[1;36m40\u001b[0m\u001b[1;33m\u001b[0m\u001b[1;33m\u001b[0m\u001b[0m\n\u001b[0m\u001b[0;32m      2\u001b[0m \u001b[0mprint\u001b[0m\u001b[1;33m(\u001b[0m\u001b[0mb1\u001b[0m\u001b[1;33m)\u001b[0m\u001b[1;33m\u001b[0m\u001b[1;33m\u001b[0m\u001b[0m\n",
      "\u001b[1;32m<ipython-input-44-40a8d9b5676d>\u001b[0m in \u001b[0;36m__setattr__\u001b[1;34m(self, name, value)\u001b[0m\n\u001b[0;32m     29\u001b[0m         \u001b[1;32mif\u001b[0m \u001b[0mname\u001b[0m \u001b[1;33m==\u001b[0m \u001b[1;34m'price'\u001b[0m\u001b[1;33m:\u001b[0m\u001b[1;33m\u001b[0m\u001b[1;33m\u001b[0m\u001b[0m\n\u001b[0;32m     30\u001b[0m             \u001b[1;32mif\u001b[0m \u001b[0mtype\u001b[0m\u001b[1;33m(\u001b[0m\u001b[0mvalue\u001b[0m\u001b[1;33m)\u001b[0m \u001b[1;32mis\u001b[0m \u001b[1;32mnot\u001b[0m \u001b[0mfloat\u001b[0m\u001b[1;33m:\u001b[0m\u001b[1;33m\u001b[0m\u001b[1;33m\u001b[0m\u001b[0m\n\u001b[1;32m---> 31\u001b[1;33m                 \u001b[1;32mraise\u001b[0m \u001b[0mValueError\u001b[0m\u001b[1;33m(\u001b[0m\u001b[1;34m'The price attr must be a float'\u001b[0m\u001b[1;33m)\u001b[0m\u001b[1;33m\u001b[0m\u001b[1;33m\u001b[0m\u001b[0m\n\u001b[0m\u001b[0;32m     32\u001b[0m         \u001b[1;32mreturn\u001b[0m \u001b[0msuper\u001b[0m\u001b[1;33m(\u001b[0m\u001b[1;33m)\u001b[0m\u001b[1;33m.\u001b[0m\u001b[0m__setattr__\u001b[0m\u001b[1;33m(\u001b[0m\u001b[0mname\u001b[0m\u001b[1;33m,\u001b[0m \u001b[0mvalue\u001b[0m\u001b[1;33m)\u001b[0m\u001b[1;33m\u001b[0m\u001b[1;33m\u001b[0m\u001b[0m\n",
      "\u001b[1;31mValueError\u001b[0m: The price attr must be a float"
     ]
    }
   ],
   "source": [
    "b1.price = 40\n",
    "print(b1)"
   ]
  },
  {
   "cell_type": "code",
   "execution_count": 50,
   "metadata": {},
   "outputs": [],
   "source": [
    "class book:\n",
    "    def __init__(self, title, author, price):\n",
    "        super().__init__()\n",
    "        self.title = title\n",
    "        self.author = author\n",
    "        self.price = price\n",
    "        self._discount = 0.1\n",
    "        \n",
    "    # the __str__ function is used to return a user-friendly string \n",
    "    # representation of the object\n",
    "    \n",
    "    def __str__(self):\n",
    "        return f'{self.title} by {self.author}, costs {self.price}'\n",
    "    \n",
    "    # __getattribute__ called when an attr is retrieved.\n",
    "    # don't directly access the attr name otherwise a recursive loop is created.\n",
    "    \n",
    "    def __getattribute__(self, name):\n",
    "        if name == 'price':\n",
    "            p = super().__getattribute__('price')\n",
    "            d = super().__getattribute__('_discount')\n",
    "            return p - (p*d)\n",
    "        return super().__getattribute__(name)\n",
    "        \n",
    "# __setattr__ called when an attribute value is set. \n",
    "# dont set the attr directly otherwise a recursive loop causes a crash.\n",
    "\n",
    "    def __setattr__(self, name, value):\n",
    "        if name == 'price':\n",
    "            if type(value) is not float:\n",
    "                raise ValueError('The price attr must be a float')\n",
    "        return super().__setattr__(name, value)\n",
    "    \n",
    "# __getattr__ called when __getattribute__ lookup fails - \n",
    "# if attribute does not actually exists\n",
    "\n",
    "    def __getattr__(self, name):\n",
    "        return name + ' is not here'"
   ]
  },
  {
   "cell_type": "code",
   "execution_count": 51,
   "metadata": {},
   "outputs": [],
   "source": [
    "b1 = book('war & peace', 'leo tolstoy', 39.40)\n",
    "b2 = book('the alchemist', 'paulo coelho', 30.25)"
   ]
  },
  {
   "cell_type": "code",
   "execution_count": 52,
   "metadata": {},
   "outputs": [
    {
     "name": "stdout",
     "output_type": "stream",
     "text": [
      "randomprop is not here\n"
     ]
    }
   ],
   "source": [
    "print(b1.randomprop)"
   ]
  },
  {
   "cell_type": "markdown",
   "metadata": {},
   "source": [
    "## callable objects"
   ]
  },
  {
   "cell_type": "code",
   "execution_count": 58,
   "metadata": {},
   "outputs": [],
   "source": [
    "class book:\n",
    "    def __init__(self, title, author, price):\n",
    "        super().__init__()\n",
    "        self.title = title\n",
    "        self.author = author\n",
    "        self.price = price\n",
    "        \n",
    "    def __str__(self):\n",
    "        return f'{self.title} by {self.author}, costs {self.price}'  \n",
    "    \n",
    "    # the __call__ method can be used to call the object like a function\n",
    "    \n",
    "    def __call__(self,title, author, price):\n",
    "        self.title = title\n",
    "        self.author = author\n",
    "        self.price = price\n",
    "        "
   ]
  },
  {
   "cell_type": "code",
   "execution_count": 59,
   "metadata": {},
   "outputs": [],
   "source": [
    "b1 = book('war & peace', 'leo tolstoy', 39.40)\n",
    "b2 = book('the alchemist', 'paulo coelho', 30.25)"
   ]
  },
  {
   "cell_type": "code",
   "execution_count": 60,
   "metadata": {},
   "outputs": [
    {
     "name": "stdout",
     "output_type": "stream",
     "text": [
      "war & peace by leo tolstoy, costs 39.4 \n",
      "\n",
      "Wrold war I by leo tolstoy, costs 40.6\n"
     ]
    }
   ],
   "source": [
    "print(b1, '\\n')\n",
    "\n",
    "b1('Wrold war I','leo tolstoy' , 40.60)\n",
    "\n",
    "print(b1)"
   ]
  },
  {
   "cell_type": "code",
   "execution_count": null,
   "metadata": {},
   "outputs": [],
   "source": []
  },
  {
   "cell_type": "code",
   "execution_count": null,
   "metadata": {},
   "outputs": [],
   "source": []
  }
 ],
 "metadata": {
  "kernelspec": {
   "display_name": "Python 3",
   "language": "python",
   "name": "python3"
  },
  "language_info": {
   "codemirror_mode": {
    "name": "ipython",
    "version": 3
   },
   "file_extension": ".py",
   "mimetype": "text/x-python",
   "name": "python",
   "nbconvert_exporter": "python",
   "pygments_lexer": "ipython3",
   "version": "3.7.6"
  }
 },
 "nbformat": 4,
 "nbformat_minor": 4
}
