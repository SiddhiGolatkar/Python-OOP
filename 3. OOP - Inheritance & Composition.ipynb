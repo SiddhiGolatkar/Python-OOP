{
 "cells": [
  {
   "cell_type": "code",
   "execution_count": 1,
   "metadata": {},
   "outputs": [],
   "source": [
    "class book:\n",
    "    def __init__(self, title, author, pages, price):\n",
    "        self.title = title\n",
    "        self.price = price\n",
    "        self.author = author\n",
    "        self.pages = pages\n",
    "        \n",
    "class magazine:\n",
    "    def __init__(self, title, publisher, price, period):\n",
    "        self.title = title\n",
    "        self.price = price\n",
    "        self.publisher = publisher\n",
    "        self.period = period\n",
    "        \n",
    "class newspaper:\n",
    "    def __init__(self, title, publisher, price, period):\n",
    "        self.title = title\n",
    "        self.price = price\n",
    "        self.publisher = publisher\n",
    "        self.period = period \n",
    "        "
   ]
  },
  {
   "cell_type": "code",
   "execution_count": 2,
   "metadata": {},
   "outputs": [],
   "source": [
    "b1 = book('alchemist', 'Paul coelho',700, 40.20)\n",
    "\n",
    "m1 = magazine('Scientific American', 'Springer nature', 10, 'Monthly')\n",
    "\n",
    "n1 = newspaper('Mumbai Mirror', 'The Times Group', 5, 'Daily')"
   ]
  },
  {
   "cell_type": "code",
   "execution_count": 3,
   "metadata": {},
   "outputs": [
    {
     "name": "stdout",
     "output_type": "stream",
     "text": [
      "Paul coelho\n"
     ]
    }
   ],
   "source": [
    "print(b1.author)"
   ]
  },
  {
   "cell_type": "code",
   "execution_count": 6,
   "metadata": {},
   "outputs": [
    {
     "name": "stdout",
     "output_type": "stream",
     "text": [
      "Springer nature , The Times Group\n"
     ]
    }
   ],
   "source": [
    "print(m1.publisher,',', n1.publisher)"
   ]
  },
  {
   "cell_type": "code",
   "execution_count": 14,
   "metadata": {},
   "outputs": [
    {
     "name": "stdout",
     "output_type": "stream",
     "text": [
      "book price is 40.2 \n",
      " newspaper price is 5 \n",
      " magazine price is 10\n"
     ]
    }
   ],
   "source": [
    "print('book price is', b1.price, '\\n',\n",
    "      'newspaper price is', n1.price, '\\n',\n",
    "      'magazine price is', m1.price)"
   ]
  },
  {
   "cell_type": "markdown",
   "metadata": {},
   "source": [
    "**Understanding inheritance**"
   ]
  },
  {
   "cell_type": "code",
   "execution_count": 19,
   "metadata": {},
   "outputs": [],
   "source": [
    "class publication:\n",
    "    def __init__(self, title, price):\n",
    "        self.title = title\n",
    "        self.price = price\n",
    "        \n",
    "class periodical(publication):\n",
    "    def __init__(self, title, price, publisher, period):\n",
    "        super().__init__(title, price)\n",
    "        self.publisher = publisher\n",
    "        self.period = period\n",
    "\n",
    "class book(publication):\n",
    "    def __init__(self, title, author, pages, price):\n",
    "        super().__init__(title, price)\n",
    "        self.author = author\n",
    "        self.pages = pages\n",
    "        \n",
    "class magazine(periodical):\n",
    "    def __init__(self, title, publisher, price, period):\n",
    "        super().__init__(title, price, publisher, period)\n",
    "        \n",
    "class newspaper(periodical):\n",
    "    def __init__(self, title, publisher, price, period):\n",
    "        super().__init__(title, price, publisher, period) \n"
   ]
  },
  {
   "cell_type": "code",
   "execution_count": 20,
   "metadata": {},
   "outputs": [],
   "source": [
    "b1 = book('alchemist', 'Paul coelho', 700, 40.20)\n",
    "\n",
    "m1 = magazine('Scientific American', 'Springer nature', 10, 'Monthly')\n",
    "\n",
    "n1 = newspaper('Mumbai Mirror', 'The Times Group', 5, 'Daily')"
   ]
  },
  {
   "cell_type": "code",
   "execution_count": 21,
   "metadata": {},
   "outputs": [
    {
     "name": "stdout",
     "output_type": "stream",
     "text": [
      "book price is 40.2 \n",
      " newspaper price is 5 \n",
      " magazine price is 10\n"
     ]
    }
   ],
   "source": [
    "print('book price is', b1.price, '\\n',\n",
    "      'newspaper price is', n1.price, '\\n',\n",
    "      'magazine price is', m1.price)"
   ]
  },
  {
   "cell_type": "code",
   "execution_count": 22,
   "metadata": {},
   "outputs": [
    {
     "name": "stdout",
     "output_type": "stream",
     "text": [
      "Paul coelho\n"
     ]
    }
   ],
   "source": [
    "print(b1.author)"
   ]
  },
  {
   "cell_type": "code",
   "execution_count": 23,
   "metadata": {},
   "outputs": [
    {
     "name": "stdout",
     "output_type": "stream",
     "text": [
      "Springer nature , The Times Group\n"
     ]
    }
   ],
   "source": [
    "print(m1.publisher,',', n1.publisher)"
   ]
  },
  {
   "cell_type": "code",
   "execution_count": null,
   "metadata": {},
   "outputs": [],
   "source": []
  },
  {
   "cell_type": "code",
   "execution_count": null,
   "metadata": {},
   "outputs": [],
   "source": []
  }
 ],
 "metadata": {
  "kernelspec": {
   "display_name": "Python 3",
   "language": "python",
   "name": "python3"
  },
  "language_info": {
   "codemirror_mode": {
    "name": "ipython",
    "version": 3
   },
   "file_extension": ".py",
   "mimetype": "text/x-python",
   "name": "python",
   "nbconvert_exporter": "python",
   "pygments_lexer": "ipython3",
   "version": "3.7.6"
  }
 },
 "nbformat": 4,
 "nbformat_minor": 4
}
